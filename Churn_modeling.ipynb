{
 "cells": [
  {
   "cell_type": "markdown",
   "metadata": {},
   "source": [
    "# What's the challenge here?Well, the bank has been seeing unusual churn rates.\n",
    "So churn is when people leave the company and they've seen customers leaving at\n",
    "unusually high rates and they want to understand what the problem is; they want\n",
    "to assess and address that problem.our goal is to create a demographic centric \n",
    "model to tell the bank which of the customers are at highest risk of leaving."
   ]
  },
  {
   "cell_type": "code",
   "execution_count": 113,
   "metadata": {},
   "outputs": [
    {
     "data": {
      "text/html": [
       "<div>\n",
       "<style scoped>\n",
       "    .dataframe tbody tr th:only-of-type {\n",
       "        vertical-align: middle;\n",
       "    }\n",
       "\n",
       "    .dataframe tbody tr th {\n",
       "        vertical-align: top;\n",
       "    }\n",
       "\n",
       "    .dataframe thead th {\n",
       "        text-align: right;\n",
       "    }\n",
       "</style>\n",
       "<table border=\"1\" class=\"dataframe\">\n",
       "  <thead>\n",
       "    <tr style=\"text-align: right;\">\n",
       "      <th></th>\n",
       "      <th>RowNumber</th>\n",
       "      <th>CustomerId</th>\n",
       "      <th>Surname</th>\n",
       "      <th>CreditScore</th>\n",
       "      <th>Geography</th>\n",
       "      <th>Gender</th>\n",
       "      <th>Age</th>\n",
       "      <th>Tenure</th>\n",
       "      <th>Balance</th>\n",
       "      <th>NumOfProducts</th>\n",
       "      <th>HasCrCard</th>\n",
       "      <th>IsActiveMember</th>\n",
       "      <th>EstimatedSalary</th>\n",
       "      <th>Exited</th>\n",
       "    </tr>\n",
       "  </thead>\n",
       "  <tbody>\n",
       "    <tr>\n",
       "      <th>0</th>\n",
       "      <td>1</td>\n",
       "      <td>15634602</td>\n",
       "      <td>Hargrave</td>\n",
       "      <td>619</td>\n",
       "      <td>France</td>\n",
       "      <td>Female</td>\n",
       "      <td>42</td>\n",
       "      <td>2</td>\n",
       "      <td>0.00</td>\n",
       "      <td>1</td>\n",
       "      <td>1</td>\n",
       "      <td>1</td>\n",
       "      <td>101348.88</td>\n",
       "      <td>1</td>\n",
       "    </tr>\n",
       "    <tr>\n",
       "      <th>1</th>\n",
       "      <td>2</td>\n",
       "      <td>15647311</td>\n",
       "      <td>Hill</td>\n",
       "      <td>608</td>\n",
       "      <td>Spain</td>\n",
       "      <td>Female</td>\n",
       "      <td>41</td>\n",
       "      <td>1</td>\n",
       "      <td>83807.86</td>\n",
       "      <td>1</td>\n",
       "      <td>0</td>\n",
       "      <td>1</td>\n",
       "      <td>112542.58</td>\n",
       "      <td>0</td>\n",
       "    </tr>\n",
       "    <tr>\n",
       "      <th>2</th>\n",
       "      <td>3</td>\n",
       "      <td>15619304</td>\n",
       "      <td>Onio</td>\n",
       "      <td>502</td>\n",
       "      <td>France</td>\n",
       "      <td>Female</td>\n",
       "      <td>42</td>\n",
       "      <td>8</td>\n",
       "      <td>159660.80</td>\n",
       "      <td>3</td>\n",
       "      <td>1</td>\n",
       "      <td>0</td>\n",
       "      <td>113931.57</td>\n",
       "      <td>1</td>\n",
       "    </tr>\n",
       "    <tr>\n",
       "      <th>3</th>\n",
       "      <td>4</td>\n",
       "      <td>15701354</td>\n",
       "      <td>Boni</td>\n",
       "      <td>699</td>\n",
       "      <td>France</td>\n",
       "      <td>Female</td>\n",
       "      <td>39</td>\n",
       "      <td>1</td>\n",
       "      <td>0.00</td>\n",
       "      <td>2</td>\n",
       "      <td>0</td>\n",
       "      <td>0</td>\n",
       "      <td>93826.63</td>\n",
       "      <td>0</td>\n",
       "    </tr>\n",
       "    <tr>\n",
       "      <th>4</th>\n",
       "      <td>5</td>\n",
       "      <td>15737888</td>\n",
       "      <td>Mitchell</td>\n",
       "      <td>850</td>\n",
       "      <td>Spain</td>\n",
       "      <td>Female</td>\n",
       "      <td>43</td>\n",
       "      <td>2</td>\n",
       "      <td>125510.82</td>\n",
       "      <td>1</td>\n",
       "      <td>1</td>\n",
       "      <td>1</td>\n",
       "      <td>79084.10</td>\n",
       "      <td>0</td>\n",
       "    </tr>\n",
       "  </tbody>\n",
       "</table>\n",
       "</div>"
      ],
      "text/plain": [
       "   RowNumber  CustomerId   Surname  CreditScore Geography  Gender  Age  \\\n",
       "0          1    15634602  Hargrave          619    France  Female   42   \n",
       "1          2    15647311      Hill          608     Spain  Female   41   \n",
       "2          3    15619304      Onio          502    France  Female   42   \n",
       "3          4    15701354      Boni          699    France  Female   39   \n",
       "4          5    15737888  Mitchell          850     Spain  Female   43   \n",
       "\n",
       "   Tenure    Balance  NumOfProducts  HasCrCard  IsActiveMember  \\\n",
       "0       2       0.00              1          1               1   \n",
       "1       1   83807.86              1          0               1   \n",
       "2       8  159660.80              3          1               0   \n",
       "3       1       0.00              2          0               0   \n",
       "4       2  125510.82              1          1               1   \n",
       "\n",
       "   EstimatedSalary  Exited  \n",
       "0        101348.88       1  \n",
       "1        112542.58       0  \n",
       "2        113931.57       1  \n",
       "3         93826.63       0  \n",
       "4         79084.10       0  "
      ]
     },
     "execution_count": 113,
     "metadata": {},
     "output_type": "execute_result"
    }
   ],
   "source": [
    "#Created on Thu Jun 27 11:14:12 2019\n",
    "\n",
    "#For training purposes I will use different machine Learning methods\n",
    "\n",
    "import numpy as np\n",
    "import pandas as pd\n",
    "import seaborn as sn\n",
    "import matplotlib.pyplot as plt\n",
    "\n",
    "dataset=pd.read_csv(\"Churn_Modelling.csv\")\n",
    "X=dataset.iloc[:,3:13]\n",
    "y=dataset.iloc[:,13]\n",
    "dataset.head()"
   ]
  },
  {
   "cell_type": "code",
   "execution_count": 94,
   "metadata": {},
   "outputs": [
    {
     "name": "stdout",
     "output_type": "stream",
     "text": [
      "<class 'pandas.core.frame.DataFrame'>\n",
      "RangeIndex: 10000 entries, 0 to 9999\n",
      "Data columns (total 14 columns):\n",
      "RowNumber          10000 non-null int64\n",
      "CustomerId         10000 non-null int64\n",
      "Surname            10000 non-null object\n",
      "CreditScore        10000 non-null int64\n",
      "Geography          10000 non-null object\n",
      "Gender             10000 non-null object\n",
      "Age                10000 non-null int64\n",
      "Tenure             10000 non-null int64\n",
      "Balance            10000 non-null float64\n",
      "NumOfProducts      10000 non-null int64\n",
      "HasCrCard          10000 non-null int64\n",
      "IsActiveMember     10000 non-null int64\n",
      "EstimatedSalary    10000 non-null float64\n",
      "Exited             10000 non-null int64\n",
      "dtypes: float64(2), int64(9), object(3)\n",
      "memory usage: 1.1+ MB\n"
     ]
    }
   ],
   "source": [
    "dataset.info()"
   ]
  },
  {
   "cell_type": "code",
   "execution_count": 101,
   "metadata": {},
   "outputs": [
    {
     "data": {
      "text/plain": [
       "<matplotlib.axes._subplots.AxesSubplot at 0x14d255f2588>"
      ]
     },
     "execution_count": 101,
     "metadata": {},
     "output_type": "execute_result"
    },
    {
     "data": {
      "image/png": "[encoded data removed]",
      "text/plain": [
       "<Figure size 432x288 with 2 Axes>"
      ]
     },
     "metadata": {
      "needs_background": "light"
     },
     "output_type": "display_data"
    }
   ],
   "source": [
    "sn.heatmap(dataset.corr())\n",
    "# As we can see in heatmap ,non of the features have a significant correlation with each other.\n",
    "#it's good news and it means that we can consider all of them as independent features in the optimization process"
   ]
  },
  {
   "cell_type": "code",
   "execution_count": 115,
   "metadata": {},
   "outputs": [
    {
     "data": {
      "text/plain": [
       "<matplotlib.axes._subplots.AxesSubplot at 0x14d27634860>"
      ]
     },
     "execution_count": 115,
     "metadata": {},
     "output_type": "execute_result"
    },
    {
     "data": {
      "image/png": "[encoded data removed]",
      "text/plain": [
       "<Figure size 432x288 with 1 Axes>"
      ]
     },
     "metadata": {
      "needs_background": "light"
     },
     "output_type": "display_data"
    }
   ],
   "source": [
    "sn.boxplot(x=dataset[\"Exited\"],y=dataset[\"Age\"],data=dataset)"
   ]
  },
  {
   "cell_type": "markdown",
   "metadata": {},
   "source": [
    " In machine learning projects, one important part is feature engineering. It is very common to see categorical features in a dataset. However, our machine learning algorithm can only read numerical values. It is essential to encoding categorical features into numerical values. "
   ]
  },
  {
   "cell_type": "markdown",
   "metadata": {},
   "source": [
    "# Encoding categorical features with Pandas"
   ]
  },
  {
   "cell_type": "code",
   "execution_count": 63,
   "metadata": {},
   "outputs": [],
   "source": [
    "# Data Prepocessing first method: Create dummy variables with Pandas\n",
    "X=pd.get_dummies(X,drop_first=\"True\")\n",
    "X.head()\n",
    "\n",
    "#spliting dataset\n",
    "from sklearn.model_selection import train_test_split\n",
    "X_train,X_test,y_train,y_test=train_test_split(X,y,test_size=0.2,random_state=0)\n",
    "\n",
    "#Standardize Data\n",
    "#data type must be array\n",
    "from sklearn.preprocessing import StandardScaler\n",
    "ss=StandardScaler()\n",
    "X_train=ss.fit_transform(X_train.values)\n",
    "X_test=ss.transform(X_test.values)"
   ]
  },
  {
   "cell_type": "markdown",
   "metadata": {},
   "source": [
    "# Encoding categorical features with LabelEncoder and OneHotEncoder from Scikit-Learn\n",
    "In this case, using LabelEncoder only is not a good choice, since it brings in a natural ordering for different classes. For example, under ‘Country’ feature, France has value 0 but Germany has value 1, is Germany ‘greater’ than France? The answer is obviously no. Thus allowing model learning this result will lead to poor performance. Therefore, for dataframe containing multi class features, a further step of OneHotEncoder is needed. "
   ]
  },
  {
   "cell_type": "raw",
   "metadata": {},
   "source": [
    "#Data Preprocessing \n",
    "#second method: Encoding categorical features with LabelEncoder and OneHotEncoder \n",
    "X=X.values\n",
    "y=y.values\n",
    "from sklearn.preprocessing import LabelEncoder, OneHotEncoder\n",
    "X[:, 1]=LabelEncoder().fit_transform(X[:, 1])\n",
    "X[:, 2]=LabelEncoder().fit_transform(X[:, 2])\n",
    "X=OneHotEncoder(categorical_features= [1]).fit_transform(X).toarray()\n",
    "X=X[:,1:]\n",
    "\n",
    "from sklearn.model_selection import train_test_split\n",
    "X_train,X_test,y_train,y_test=train_test_split(X,y,test_size=0.2,random_state=0)\n",
    "\n",
    "from sklearn.preprocessing import StandardScaler\n",
    "ss=StandardScaler()\n",
    "X_train=ss.fit_transform(X_train)\n",
    "X_test=ss.transform(X_test)"
   ]
  },
  {
   "cell_type": "code",
   "execution_count": 79,
   "metadata": {},
   "outputs": [
    {
     "name": "stdout",
     "output_type": "stream",
     "text": [
      "Confusion Matrix is:  [[1526   69]\n",
      " [ 309   96]] \n",
      " Accuracy Score is:  0.811\n"
     ]
    }
   ],
   "source": [
    "#LogisticRegression(LR)\n",
    "from sklearn.linear_model import LogisticRegression\n",
    "classifier_LR=LogisticRegression(solver=\"lbfgs\")\n",
    "classifier_LR.fit(X_train,y_train)\n",
    "\n",
    "y_pred_LR=classifier_LR.predict(X_test)\n",
    "\n",
    "from sklearn.metrics import confusion_matrix,accuracy_score\n",
    "CM_LR=confusion_matrix(y_test,y_pred_LR)\n",
    "AcS_LR=accuracy_score(y_test,y_pred_LR)\n",
    "\n",
    "print (\"Confusion Matrix is: \",CM_LR,\"\\n\", \"Accuracy Score is: \",AcS_LR)"
   ]
  },
  {
   "cell_type": "code",
   "execution_count": 81,
   "metadata": {},
   "outputs": [
    {
     "name": "stdout",
     "output_type": "stream",
     "text": [
      "Confusion Matrix is:  [[1551   44]\n",
      " [ 242  163]] \n",
      " Accuracy Score is:  0.857\n"
     ]
    }
   ],
   "source": [
    "#SVM \n",
    "from sklearn.svm import SVC\n",
    "#SVM with poly kernel\n",
    "classifier_SVM_poly=SVC(kernel=\"poly\",random_state=0)\n",
    "classifier_SVM_poly.fit(X_train,y_train)\n",
    "\n",
    "y_pred_poly=classifier_SVM_poly.predict(X_test)\n",
    "\n",
    "from sklearn.metrics import confusion_matrix,accuracy_score\n",
    "CM_SVM_poly=confusion_matrix(y_test,y_pred_poly)\n",
    "AcS_SVM_poly=accuracy_score(y_test,y_pred_poly)\n",
    "\n",
    "print (\"Confusion Matrix is: \",CM_SVM_poly,\"\\n\", \"Accuracy Score is: \",AcS_SVM_poly)"
   ]
  },
  {
   "cell_type": "code",
   "execution_count": 84,
   "metadata": {},
   "outputs": [
    {
     "name": "stdout",
     "output_type": "stream",
     "text": [
      "Confusion Matrix is:  [[1547   48]\n",
      " [ 225  180]] \n",
      " Accuracy Score is:  0.8635\n"
     ]
    }
   ],
   "source": [
    "\n",
    "#SVM with rbf kernel\n",
    "classifier_SVM_rbf=SVC(kernel=\"rbf\",random_state=0)\n",
    "classifier_SVM_rbf.fit(X_train,y_train)\n",
    "\n",
    "y_pred_rbf=classifier_SVM_rbf.predict(X_test)\n",
    "\n",
    "from sklearn.metrics import confusion_matrix,accuracy_score\n",
    "CM_SVM_rbf=confusion_matrix(y_test,y_pred_rbf)\n",
    "AcS_SVM_rbf=accuracy_score(y_test,y_pred_rbf)\n",
    "\n",
    "print (\"Confusion Matrix is: \",CM_SVM_rbf,\"\\n\", \"Accuracy Score is: \",AcS_SVM_rbf)"
   ]
  },
  {
   "cell_type": "code",
   "execution_count": 85,
   "metadata": {},
   "outputs": [
    {
     "name": "stdout",
     "output_type": "stream",
     "text": [
      "Confusion Matrix is:  [[1537   58]\n",
      " [ 248  157]] \n",
      " Accuracy Score is:  0.847\n"
     ]
    }
   ],
   "source": [
    "\n",
    "#K_NN\n",
    "from sklearn.neighbors import KNeighborsClassifier\n",
    "classifier_KNN=KNeighborsClassifier(n_neighbors=14,weights=\"distance\")\n",
    "\n",
    "classifier_KNN.fit(X_train,y_train)\n",
    "\n",
    "y_pred_KNN=classifier_KNN.predict(X_test)\n",
    "\n",
    "from sklearn.metrics import confusion_matrix,accuracy_score\n",
    "CM_KNN=confusion_matrix(y_test,y_pred_KNN)\n",
    "AcS_KNN=accuracy_score(y_test,y_pred_KNN)\n",
    "\n",
    "print (\"Confusion Matrix is: \",CM_KNN,\"\\n\", \"Accuracy Score is: \",AcS_KNN)"
   ]
  },
  {
   "cell_type": "code",
   "execution_count": 88,
   "metadata": {},
   "outputs": [
    {
     "name": "stdout",
     "output_type": "stream",
     "text": [
      "Confusion Matrix is:  [[1520   75]\n",
      " [ 193  212]] \n",
      " Accuracy Score is:  0.866\n"
     ]
    }
   ],
   "source": [
    "\n",
    "#RandomForestClassifier\n",
    "from sklearn.ensemble import RandomForestClassifier\n",
    "classifier_RF=RandomForestClassifier(n_estimators=60,random_state=0)\n",
    "classifier_RF.fit(X_train,y_train)\n",
    "\n",
    "y_pred_RF=classifier_RF.predict(X_test)\n",
    "\n",
    "from sklearn.metrics import confusion_matrix,accuracy_score\n",
    "CM_RF=confusion_matrix(y_test,y_pred_RF)\n",
    "AcS_RF=accuracy_score(y_test,y_pred_RF)\n",
    "\n",
    "print (\"Confusion Matrix is: \",CM_RF,\"\\n\", \"Accuracy Score is: \",AcS_RF)"
   ]
  },
  {
   "cell_type": "code",
   "execution_count": 86,
   "metadata": {},
   "outputs": [
    {
     "name": "stdout",
     "output_type": "stream",
     "text": [
      "Confusion Matrix is:  [[1499   96]\n",
      " [ 245  160]] \n",
      " Accuracy Score is:  0.8295\n"
     ]
    }
   ],
   "source": [
    "#Navis Bayes\n",
    "from sklearn.naive_bayes import GaussianNB\n",
    "classifier_NB=GaussianNB()\n",
    "classifier_NB.fit(X_train,y_train)\n",
    "\n",
    "y_pred_NB=classifier_NB.predict(X_test)\n",
    "\n",
    "from sklearn.metrics import confusion_matrix,accuracy_score\n",
    "CM_NB=confusion_matrix(y_test,y_pred_NB)\n",
    "AcS_NB=accuracy_score(y_test,y_pred_NB)\n",
    "\n",
    "print (\"Confusion Matrix is: \",CM_NB,\"\\n\", \"Accuracy Score is: \",AcS_NB)"
   ]
  },
  {
   "cell_type": "code",
   "execution_count": null,
   "metadata": {},
   "outputs": [],
   "source": [
    "#ANN\n",
    "import keras\n",
    "from keras.models import Sequential\n",
    "from keras.layers import Dense\n",
    "classifier=Sequential()\n",
    "# Adding the input layer and two hidden layers\n",
    "classifier_ANN.add(Dense(units=6,kernel_initializer=\"uniform\",activation=\"relu\",input_dim=11))\n",
    "classifier_ANN.add(Dense(units=6,kernel_initializer=\"uniform\",activation=\"relu\"))\n",
    "\n",
    "# Adding the output layer\n",
    "classifier_ANN.add(Dense(units=1,kernel_initializer=\"uniform\",activation=\"sigmoid\"))\n",
    "\n",
    "classifier_ANN.compile(optimizer=\"rmsprop\" , loss=\"binary_crossentropy\", metrics=[\"accuracy\"])\n",
    "classifier_ANN.fit(X_train,y_train,batch_size=10,epochs=100)\n",
    "\n",
    "\n",
    "y_pred_ANN=classifier_ANN.predict(X_test)\n",
    "y_pred_ANN=y_pred_ANN>0.5\n",
    "\n",
    "from sklearn.metrics import confusion_matrix\n",
    "CM_ANN=confusion_matrix(y_pred_ANN,y_test)\n",
    "AcS_ANN=accuracy_score(y_test,y_pred_ANN)\n",
    "\n",
    "print (\"Confusion Matrix is: \",CM_ANN,\"\\n\", \"Accuracy Score is: \",AcS_ANN)"
   ]
  },
  {
   "cell_type": "code",
   "execution_count": null,
   "metadata": {},
   "outputs": [],
   "source": [
    "# Improving the ANN\n",
    "# Dropout Regularization to reduce overfitting if needed\n",
    "# Tuning the ANN\n",
    "from keras.wrappers.scikit_learn import KerasClassifier\n",
    "from sklearn.model_selection import GridSearchCV \n",
    "from keras.models import Sequential\n",
    "from keras.layers import Dense\n",
    "\n",
    "def classifier(optimizer):\n",
    "    classifier_ANN=Sequential()\n",
    "    classifier_ANN.add(Dense(units=6,kernel_initializer=\"uniform\",activation=\"relu\",input_dim=11))\n",
    "    classifier_ANN.add(Dense(units=6,kernel_initializer=\"uniform\",activation=\"relu\"))\n",
    "    classifier_ANN.add(Dense(units=1,kernel_initializer=\"uniform\",activation=\"sigmoid\"))\n",
    "    classifier_ANN.compile(optimizer=optimizer , loss=\"binary_crossentropy\", metrics=[\"accuracy\"])\n",
    "    return classifier_ANN   \n",
    "\n",
    "classifier_ANN=KerasClassifier(build_fn=classifier)\n",
    "parameters={'batch_size':[25,27],'epochs':[200,500],'optimizer':['adam','rmsprop']}\n",
    "grid_search=GridSearchCV(estimator=classifier_ANN,param_grid=parameters,cv=10,scoring = 'accuracy')\n",
    "\n",
    "grid_search.fit(X_train,y_train)\n",
    "best_parameters = grid_search.best_params_\n",
    "best_accuracy = grid_search.best_score_"
   ]
  }
 ],
 "metadata": {
  "kernelspec": {
   "display_name": "Python 3",
   "language": "python",
   "name": "python3"
  },
  "language_info": {
   "codemirror_mode": {
    "name": "ipython",
    "version": 3
   },
   "file_extension": ".py",
   "mimetype": "text/x-python",
   "name": "python",
   "nbconvert_exporter": "python",
   "pygments_lexer": "ipython3",
   "version": "3.7.3"
  }
 },
 "nbformat": 4,
 "nbformat_minor": 2
}
